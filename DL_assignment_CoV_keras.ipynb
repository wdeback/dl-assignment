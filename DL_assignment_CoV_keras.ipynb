{
  "nbformat": 4,
  "nbformat_minor": 0,
  "metadata": {
    "colab": {
      "name": "DL-assignment-CoV-keras.ipynb",
      "provenance": [],
      "private_outputs": true,
      "collapsed_sections": [],
      "toc_visible": true,
      "mount_file_id": "1M59KnTuRiJl5g5aZucvJej6o7n94DYGs",
      "authorship_tag": "ABX9TyN8UPeVB5FsO7D096hn99wr",
      "include_colab_link": true
    },
    "kernelspec": {
      "name": "python3",
      "display_name": "Python 3"
    },
    "accelerator": "GPU"
  },
  "cells": [
    {
      "cell_type": "markdown",
      "metadata": {
        "id": "view-in-github",
        "colab_type": "text"
      },
      "source": [
        "<a href=\"https://colab.research.google.com/github/wdeback/dl-assignment/blob/master/DL_assignment_CoV_keras.ipynb\" target=\"_parent\"><img src=\"https://colab.research.google.com/assets/colab-badge.svg\" alt=\"Open In Colab\"/></a>"
      ]
    },
    {
      "cell_type": "markdown",
      "metadata": {
        "id": "A_Ipx-hLWdTJ",
        "colab_type": "text"
      },
      "source": [
        "# Cancer classification\n",
        "\n",
        "We would like to train a convolutional neural network to detect cancer in histopathological images. A dataset of microscopy images from lymph node sections is available, together with labels indicating the presence of metastatic tissue in each image. \n",
        "\n",
        "In this notebook, we have already made a first working version. However, there is a lot of room for improvement. **Can you help and do a code review for us**?\n",
        "\n",
        "![PCAM](https://raw.githubusercontent.com/basveeling/pcam/master/pcam.jpg)\n",
        "\n",
        "### Data\n",
        "\n",
        "##### Images\n",
        "Our data set consists of a set of **~4000 hematoxylin and eosin (H&E) stained images** of lymph node sections that are extracted from a set of [whole slide images](https://www.mbfbioscience.com/whole-slide-imaging). The original whole slide images were acquired and digitized at 2 different pathology labs using a 40x objective (with resolution 0.243 microns per pixel) but are undersampled at 10x to increase the field of view. The images are in RGB format, have a height and width of 96x96 px and are of type ``uint8``. All images are stored in TIFF format and have a unique identifier in their filename. The image data is stored in the folder ``cov_dataset/images``.\n",
        "\n",
        "##### Labels\n",
        "The **image labels indicate the presence of metastatic tissue** in each image and can be found in ``cov_dataset/labels.csv``, associated with the image IDs. A positive label, i.e. ``1``, indicates that the center 32x32 px region of an image contains at least one pixel of tumor tissue. Conversely, the label value ``0`` indicates its absence in the center region. Tissue in the outer region of the patch does not influence the label.\n",
        "\n",
        "### Task\n",
        "\n",
        "Generally, our task is to develop an algorithm for the automated detection of metastases in hematoxylin and eosin (H&E) stained images of lymph node sections. More specifically, here, we aim to develop and **train a convolutional neural network (CNN) to classify images** in the provided data set into \"benign\" or \"cancer\" classes.\n",
        "\n",
        "Below, we have already implemented a fully functional working version of a system to train a CNN for this task. However, as you will see, this implementation may be little too simplistic, naive or even wrong here and there.\n",
        "\n",
        "Now, it is your task to **help us improve this deep learning system** by doing a code review. Think of improvements that can be made to any part of the deep learning process, from data exploration and model construction to network training, evaluation and inference. (The first part including downloading data, imports and utility functions should be okay and can be skipped.)\n",
        "\n",
        "After executing and reviewing the notebook, you should try and **answer the following questions**:\n",
        "\n",
        "1. **What do you notice when reviewing this code?** Can you list 3 or 4 erroneous, missing or suboptimal steps in each of the following phases: (1) data exploration/handling, (2) model construction/training and (3) evaluation/inference?\n",
        "\n",
        "2. **What are your suggestions to improve it?** What would you do to fix these issues and/or improve the system?\n",
        "\n",
        "3. **How would you implement it?** What deep learning framework, software tools, methods and techniques would you use?\n",
        "\n",
        "\n",
        "Feel free to play around with this notebook and use all of colab's options and GPU processing to explore data, fix bugs, train models and run experiments.\n",
        " \n",
        "However, *it is **not expected** that you actually implement your solution*. The idea is to take this notebook and your suggestions as a starting point for discussion to demonstrate your experience with methods and techniques in machine learning, deep learning, computer vision and/or medical imaging.\n",
        "\n",
        "If something is unclear or doesn't work, please do not hesitate to contact us. \n",
        "\n",
        "**Good luck and have fun!**"
      ]
    },
    {
      "cell_type": "markdown",
      "metadata": {
        "id": "nlOlUpjPpy8I",
        "colab_type": "text"
      },
      "source": [
        "----\n",
        "\n",
        "- Use the 'Copy to drive' button to copy this notebook to your Google Drive.\n",
        "\n",
        "- If you're new to colab, check [this video](https://www.youtube.com/watch?v=inN8seMm7UI&list=PLQY2H8rRoyvwLbzbnKJ59NkZvQAW9wLbx&index=3) and [this tutorial](https://colab.research.google.com/github/tensorflow/examples/blob/master/courses/udacity_intro_to_tensorflow_for_deep_learning/l01c01_introduction_to_colab_and_python.ipynb).\n",
        "\n",
        "----\n"
      ]
    },
    {
      "cell_type": "markdown",
      "metadata": {
        "id": "MfLUi-qKQxWd",
        "colab_type": "text"
      },
      "source": [
        "## Download dataset\n",
        "\n",
        "- Note that the dataset is stored in a non-persistent way and will be deleted after ending your colab session, which means you will need to download it again."
      ]
    },
    {
      "cell_type": "code",
      "metadata": {
        "id": "zOjCPN3fYe62",
        "colab_type": "code",
        "colab": {}
      },
      "source": [
        "dataset = \"cov_dataset\""
      ],
      "execution_count": null,
      "outputs": []
    },
    {
      "cell_type": "code",
      "metadata": {
        "id": "4_XZf4NBQwZ1",
        "colab_type": "code",
        "colab": {}
      },
      "source": [
        "import os \n",
        "os.chdir('/content/')\n",
        "\n",
        "# download dataset from GitHub\n",
        "!if [[ ! -f /content/{dataset}.tar.gz ]]; then echo \"=== Downloading {dataset} ===\"; wget https://github.com/wdeback/dl-assignment/raw/master/{dataset}.tar.gz /content/{dataset}.tar.gz; fi\n",
        "# uncompress dataset\n",
        "!if [[ ! -d /content/{dataset} ]]; then echo \"=== Deflating {dataset} ===\"; tar -xzf /content/{dataset}.tar.gz; fi\n",
        "\n",
        "# cd to dataset folder\n",
        "data_folder = f'/content/{dataset}'\n",
        "os.chdir(data_folder)\n",
        "!pwd"
      ],
      "execution_count": null,
      "outputs": []
    },
    {
      "cell_type": "markdown",
      "metadata": {
        "id": "qZO8J9MIyD3A",
        "colab_type": "text"
      },
      "source": [
        "## Import modules"
      ]
    },
    {
      "cell_type": "code",
      "metadata": {
        "id": "vmKfJqR4mn7R",
        "colab_type": "code",
        "colab": {}
      },
      "source": [
        "import os, glob\n",
        "import numpy as np\n",
        "import pandas as pd\n",
        "from skimage.io import imread\n",
        "import matplotlib.pylab as plt\n",
        "\n",
        "# tensorflow / keras\n",
        "import tensorflow as tf\n",
        "from tensorflow.keras import applications, models, layers"
      ],
      "execution_count": null,
      "outputs": []
    },
    {
      "cell_type": "markdown",
      "metadata": {
        "id": "eo-J3uh4yBO1",
        "colab_type": "text"
      },
      "source": [
        "## Utility functions\n",
        "\n",
        "- These functions should be okay and can be skipped in the code review."
      ]
    },
    {
      "cell_type": "code",
      "metadata": {
        "id": "p8-8fez5oF84",
        "colab_type": "code",
        "colab": {}
      },
      "source": [
        "def read_metadata():\n",
        "  '''Read metadata file'''\n",
        "  df = pd.read_csv('labels.csv')\n",
        "  return df\n",
        "\n",
        "def read_data(df):\n",
        "  '''Read TIFF files and their labels'''\n",
        "  fns = [os.path.join(folder, f'{id}.tif') for folder, id in zip(df['folder'], df['id'])]\n",
        "  labels = df['label'].values\n",
        "  images = np.array([imread(fn) for fn in fns])\n",
        "  return images, labels\n",
        "\n",
        "def convert_to_onehot(y, n_classes=2):\n",
        "  '''Convert from index to one-hot notation'''\n",
        "  return np.eye(n_classes)[y]\n",
        "\n",
        "def plot_image(x, y, ax=None, show_axis=True):\n",
        "  '''Plot image and its label'''\n",
        "  if ax is None:\n",
        "    fig, ax = plt.subplots(1,1)\n",
        "  ax.imshow(x)\n",
        "  ax.set_title(f'Label = {y}')\n",
        "  if not show_axis:\n",
        "    ax.axis('off')\n",
        "  if ax is None:\n",
        "    plt.show()\n",
        "\n",
        "def plot_images(xs, ys, show_axis=True):\n",
        "  '''Plot collection of images and their labels in a square'''\n",
        "  assert len(xs) == len(ys)\n",
        "  n_rows = n_cols = int(np.ceil(np.sqrt(len(xs))))\n",
        "  fig, ax = plt.subplots(n_rows, n_cols, figsize=(n_cols*3, n_rows*3))\n",
        "  ax = ax.flatten()\n",
        "  for i, (x, y) in enumerate(zip(xs, ys)):\n",
        "    plot_image(x, y, ax[i], show_axis=show_axis)\n",
        "  for a in ax[i+1:]:\n",
        "    a.set_visible(False)\n",
        "  plt.show()\n",
        "\n",
        "def print_details(x):\n",
        "  '''Print basic info about array'''\n",
        "  if not isinstance(x, np.ndarray):\n",
        "    raise TypeError(f'Only useful for np.arrays.')\n",
        "  \n",
        "  print(f'Shape: {x.shape}')\n",
        "  print(f'Type : {x.dtype}')\n",
        "  print(f'Min  : {x.min()}')\n",
        "  print(f'Max  : {x.max()}')\n",
        "  print(f'Mean : {x.mean()}')\n",
        "\n",
        "def plot_history(history):\n",
        "  '''Plot keras history'''\n",
        "  fig, ax = plt.subplots(1, 2, figsize=(12,4))\n",
        "\n",
        "  ax[0].set_title('Loss')\n",
        "  ax[0].plot(history.history['loss'])\n",
        "\n",
        "  ax[1].set_title('Accuracy')\n",
        "  ax[1].plot(history.history['accuracy'])\n",
        "\n",
        "  for a in ax:\n",
        "    a.set_xlabel('Epochs')\n",
        "    a.grid(True)\n",
        "\n",
        "  plt.show()\n",
        "\n",
        "\n",
        "def plot_roc_curve(model, x, y):\n",
        "  '''Compute FPR, TPR, AUC and plot ROC curve'''\n",
        "  from sklearn.metrics import roc_curve, auc, plot_roc_curve\n",
        "  y_pred_probs = model.predict(x)\n",
        "  fpr, tpr, thresholds = roc_curve(np.argmax(y,axis=-1), y_pred_probs[:,1])\n",
        "  auc = auc(fpr, tpr)\n",
        "\n",
        "  fig, ax = plt.subplots(1,1)\n",
        "  _ = ax.plot(fpr,tpr,label=f'auc={auc:.3f}')\n",
        "  ax.legend(loc='best')\n",
        "  ax.set_xlabel('False positive rate')\n",
        "  ax.set_ylabel('True positive rate')\n",
        "  ax.set_title('ROC curve')\n",
        "\n",
        "  # inset\n",
        "  axins = ax.inset_axes([0.4, 0.2, 0.5, 0.55])\n",
        "  _ = axins.plot(fpr, tpr)\n",
        "  size = 0.2\n",
        "  x1, x2, y1, y2 = -0.05, size, 1-size, 1.05\n",
        "  axins.set_xlim(x1, x2)\n",
        "  axins.set_ylim(y1, y2)\n",
        "  axins.set_xticklabels('')\n",
        "  axins.set_yticklabels('')\n",
        "  ax.indicate_inset_zoom(axins)\n",
        "\n",
        "  plt.show()\n",
        "  return auc\n",
        "\n",
        "\n",
        "def plot_prediction(x_sample, y_probs):\n",
        "  '''Plot image sample alongside the predicted probabilities'''\n",
        "\n",
        "  # class with highest probability\n",
        "  y_pred = np.argmax(y_probs)\n",
        "  # probability of winning class \n",
        "  confidence = y_probs[y_pred]\n",
        "\n",
        "  # plot prediction\n",
        "  fig, ax = plt.subplots(1,2, figsize=(6,3))\n",
        "  fig.tight_layout()\n",
        "  _= fig.suptitle(f\"Prediction: Class \\\"{['benign', 'cancer'][y_pred]}\\\" with {confidence:.2%} confidence\", y=1.1, fontsize=18)\n",
        "  ax[0].imshow(x_sample)\n",
        "  ax[0].axis('off')\n",
        "\n",
        "  ax[1].bar(range(2), y_probs)\n",
        "  ax[1].set_xticks([0,1])\n",
        "  ax[1].set_xticklabels(['Benign', 'Cancer'])\n",
        "  ax[1].set_ylabel('Class probabilities')\n",
        "  ax[1].set_ylim([0,1])\n",
        "  plt.show()"
      ],
      "execution_count": null,
      "outputs": []
    },
    {
      "cell_type": "markdown",
      "metadata": {
        "id": "YTvheDeQW1ep",
        "colab_type": "text"
      },
      "source": [
        "## Read metadata"
      ]
    },
    {
      "cell_type": "code",
      "metadata": {
        "id": "vYFzS8VMUm5l",
        "colab_type": "code",
        "colab": {}
      },
      "source": [
        "# read dataset into pandas dataframe\n",
        "df = read_metadata()\n",
        "df.head()"
      ],
      "execution_count": null,
      "outputs": []
    },
    {
      "cell_type": "markdown",
      "metadata": {
        "id": "SZX1MdL1W5ON",
        "colab_type": "text"
      },
      "source": [
        "## Sample of image data and labels"
      ]
    },
    {
      "cell_type": "code",
      "metadata": {
        "id": "Rj5m8gslp-Pb",
        "colab_type": "code",
        "colab": {}
      },
      "source": [
        "# read and display sample of images/labels\n",
        "df_sample = df.sample(n=25)\n",
        "x, y = read_data(df_sample)\n",
        "plot_images(x, y, show_axis=False)"
      ],
      "execution_count": null,
      "outputs": []
    },
    {
      "cell_type": "markdown",
      "metadata": {
        "id": "XhyozCI3XA8p",
        "colab_type": "text"
      },
      "source": [
        "## Read and explore image data and labels"
      ]
    },
    {
      "cell_type": "code",
      "metadata": {
        "id": "pil-vf5-otlq",
        "colab_type": "code",
        "colab": {}
      },
      "source": [
        "# read all image data and labels\n",
        "x, y = read_data(df)\n",
        "\n",
        "print('Details of x:')\n",
        "print('-------------')\n",
        "print_details(x)\n",
        "\n",
        "print()\n",
        "print('Details of y:')\n",
        "print('-------------')\n",
        "print_details(y)\n",
        "\n",
        "# convert labels to one-hot notation\n",
        "y = convert_to_onehot(y)"
      ],
      "execution_count": null,
      "outputs": []
    },
    {
      "cell_type": "markdown",
      "metadata": {
        "id": "h7Y6wCWcnPxp",
        "colab_type": "text"
      },
      "source": [
        "## Model and training\n"
      ]
    },
    {
      "cell_type": "code",
      "metadata": {
        "id": "5FazmdO6mGHK",
        "colab_type": "code",
        "cellView": "both",
        "colab": {}
      },
      "source": [
        "# load pretrained model\n",
        "base_model = applications.VGG16(weights='imagenet', include_top=False, input_shape=x.shape[1:], pooling='max')\n",
        "\n",
        "# add new classifier layers\n",
        "model = models.Sequential([ base_model, layers.Dense(2, activation='softmax') ])\n",
        "\n",
        "# compile model\n",
        "model.compile(loss='categorical_crossentropy', \n",
        "              optimizer=tf.optimizers.SGD(lr=1e-4),\n",
        "              metrics=['accuracy'])\n",
        "\n",
        "# train model\n",
        "history = model.fit(x=x, y=y, batch_size=32, epochs=25, verbose=1)\n",
        "\n",
        "# plot history\n",
        "plot_history(history)"
      ],
      "execution_count": null,
      "outputs": []
    },
    {
      "cell_type": "markdown",
      "metadata": {
        "id": "rmfa1AWeJ42Y",
        "colab_type": "text"
      },
      "source": [
        "## Evaluate model performance"
      ]
    },
    {
      "cell_type": "code",
      "metadata": {
        "id": "w5VI_QSbB9mF",
        "colab_type": "code",
        "colab": {}
      },
      "source": [
        "# evaluate model\n",
        "_, acc = model.evaluate(x, y, verbose=0)\n",
        "\n",
        "# ROC curve and AUC\n",
        "auc = plot_roc_curve(model, x, y)\n",
        "\n",
        "print(f'Model accuracy = {acc:%}')\n",
        "print(f'Model AUC      = {auc:.3f}')"
      ],
      "execution_count": null,
      "outputs": []
    },
    {
      "cell_type": "markdown",
      "metadata": {
        "id": "yhW4EapSbRrp",
        "colab_type": "text"
      },
      "source": [
        "## Predict on sample image"
      ]
    },
    {
      "cell_type": "code",
      "metadata": {
        "id": "PmVsqVr3JceZ",
        "colab_type": "code",
        "colab": {}
      },
      "source": [
        "# get random sample image\n",
        "sample = np.random.randint(0, len(x))\n",
        "x_sample = x[sample]\n",
        "\n",
        "# predict class probabilities\n",
        "y_probs = np.squeeze(model.predict(x_sample[np.newaxis, ...]))\n",
        "# class with highest probability\n",
        "y_pred = np.argmax(y_probs)\n",
        "# probability of winning class \n",
        "confidence = y_probs[y_pred]\n",
        "#print(f\"Prediction: Class \\\"{['benign', 'cancer'][y_pred]}\\\" with {confidence:.2%} confidence\")\n",
        "\n",
        "plot_prediction(x_sample, y_probs)"
      ],
      "execution_count": null,
      "outputs": []
    },
    {
      "cell_type": "code",
      "metadata": {
        "id": "ZpV-iy9T-n2f",
        "colab_type": "code",
        "colab": {}
      },
      "source": [
        ""
      ],
      "execution_count": null,
      "outputs": []
    }
  ]
}